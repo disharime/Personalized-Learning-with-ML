{
 "cells": [
  {
   "cell_type": "code",
   "execution_count": 1,
   "id": "d58c9f3e-dd33-40a2-bde9-160a490b1b93",
   "metadata": {},
   "outputs": [],
   "source": [
    "import pandas as pd"
   ]
  },
  {
   "cell_type": "code",
   "execution_count": 2,
   "id": "d3c90205-b528-4d74-ab34-2b4fc7db92c8",
   "metadata": {},
   "outputs": [],
   "source": [
    "import joblib"
   ]
  },
  {
   "cell_type": "code",
   "execution_count": 3,
   "id": "0bee2308-7d8f-48c1-9c30-80f221b4a62b",
   "metadata": {},
   "outputs": [],
   "source": [
    "from sklearn.model_selection import train_test_split\n",
    "from sklearn.preprocessing import LabelEncoder\n",
    "from sklearn.neighbors import KNeighborsClassifier\n",
    "from sklearn.metrics import accuracy_score, confusion_matrix\n",
    "import seaborn as sns\n",
    "import matplotlib.pyplot as plt"
   ]
  },
  {
   "cell_type": "markdown",
   "id": "e3e31c6e-124e-4496-97ee-5ec1b862fcb3",
   "metadata": {},
   "source": [
    "Getting Your Data Ready"
   ]
  },
  {
   "cell_type": "code",
   "execution_count": 4,
   "id": "60abe14f-84a9-447a-8748-51cc92bd1ed1",
   "metadata": {},
   "outputs": [],
   "source": [
    "data = {\n",
    "    'student_id': [1, 1, 2, 2, 3, 3, 4, 4, 5, 5],\n",
    "    'topic': ['Algebra', 'Calculus', 'Geometry', 'Algebra', 'Calculus', 'Geometry', 'Trigonometry', 'Algebra', 'Calculus', 'Trigonometry'],\n",
    "    'difficulty': ['Easy', 'Hard', 'Medium', 'Easy', 'Hard', 'Medium', 'Medium', 'Easy', 'Hard', 'Hard'],\n",
    "    'score': [90, 60, 85, 95, 50, 88, 75, 92, 55, 65],\n",
    "    'time_spent_minutes': [15, 45, 20, 10, 60, 22, 30, 12, 50, 40],\n",
    "    'liked_topic': [True, False, True, True, False, True, True, True, False, False],\n",
    "    'recommended_next_topic': ['Geometry', 'Algebra', 'Calculus', 'Trigonometry', 'Algebra', 'Trigonometry', 'Calculus', 'Geometry', 'Algebra', 'Calculus']\n",
    "}"
   ]
  },
  {
   "cell_type": "code",
   "execution_count": 5,
   "id": "abbbc695-8f9a-4d83-8cdb-65009bc644c7",
   "metadata": {},
   "outputs": [],
   "source": [
    "df = pd.DataFrame(data)"
   ]
  },
  {
   "cell_type": "markdown",
   "id": "33a037e2-5058-4783-b316-0cabc088ec80",
   "metadata": {},
   "source": [
    "Save created data to a CSV file"
   ]
  },
  {
   "cell_type": "code",
   "execution_count": 6,
   "id": "0f5a674c-4bc0-4be9-b785-312466206bbd",
   "metadata": {},
   "outputs": [
    {
     "name": "stdout",
     "output_type": "stream",
     "text": [
      "Successfully created and saved the dataset as 'student_learning_data.csv'\n",
      "\n",
      "Here's a look at our data:\n",
      "   student_id     topic difficulty  score  time_spent_minutes  liked_topic  \\\n",
      "0           1   Algebra       Easy     90                  15         True   \n",
      "1           1  Calculus       Hard     60                  45        False   \n",
      "2           2  Geometry     Medium     85                  20         True   \n",
      "3           2   Algebra       Easy     95                  10         True   \n",
      "4           3  Calculus       Hard     50                  60        False   \n",
      "\n",
      "  recommended_next_topic  \n",
      "0               Geometry  \n",
      "1                Algebra  \n",
      "2               Calculus  \n",
      "3           Trigonometry  \n",
      "4                Algebra  \n"
     ]
    }
   ],
   "source": [
    "df.to_csv('student_learning_data.csv', index=False)\n",
    "print(\"Successfully created and saved the dataset as 'student_learning_data.csv'\")\n",
    "print(\"\\nHere's a look at our data:\")\n",
    "print(df.head())"
   ]
  },
  {
   "cell_type": "code",
   "execution_count": 8,
   "id": "4b29baa5-a313-4848-bafc-e29603d3cee8",
   "metadata": {},
   "outputs": [],
   "source": [
    "label_encoder = LabelEncoder()\n",
    "df['difficulty_encoded'] = label_encoder.fit_transform(df['difficulty'])"
   ]
  },
  {
   "cell_type": "code",
   "execution_count": 9,
   "id": "c80a765f-3855-43be-bed7-058be51b93ae",
   "metadata": {},
   "outputs": [
    {
     "name": "stdout",
     "output_type": "stream",
     "text": [
      "\n",
      "Our data after encoding text into numbers:\n",
      "   student_id     topic difficulty  score  time_spent_minutes  liked_topic  \\\n",
      "0           1   Algebra       Easy     90                  15         True   \n",
      "1           1  Calculus       Hard     60                  45        False   \n",
      "2           2  Geometry     Medium     85                  20         True   \n",
      "3           2   Algebra       Easy     95                  10         True   \n",
      "4           3  Calculus       Hard     50                  60        False   \n",
      "\n",
      "  recommended_next_topic  difficulty_encoded  topic_encoded  \\\n",
      "0               Geometry                   0              0   \n",
      "1                Algebra                   1              1   \n",
      "2               Calculus                   2              2   \n",
      "3           Trigonometry                   0              0   \n",
      "4                Algebra                   1              1   \n",
      "\n",
      "   recommended_next_topic_encoded  liked_topic_encoded  \n",
      "0                               2                    1  \n",
      "1                               0                    0  \n",
      "2                               1                    1  \n",
      "3                               3                    1  \n",
      "4                               0                    0  \n"
     ]
    }
   ],
   "source": [
    "df['topic_encoded'] = label_encoder.fit_transform(df['topic'])\n",
    "df['recommended_next_topic_encoded'] = label_encoder.fit_transform(df['recommended_next_topic'])\n",
    "df['liked_topic_encoded'] = label_encoder.fit_transform(df['liked_topic'])\n",
    "\n",
    "print(\"\\nOur data after encoding text into numbers:\")\n",
    "print(df.head())"
   ]
  },
  {
   "cell_type": "markdown",
   "id": "e482eb85-f0dc-43c7-9b1e-762abe2aea4c",
   "metadata": {},
   "source": [
    "Building Smart Recommendation Engine"
   ]
  },
  {
   "cell_type": "code",
   "execution_count": 10,
   "id": "49ca6c6d-6a93-46e4-86d8-07d843e67201",
   "metadata": {},
   "outputs": [],
   "source": [
    "features = ['topic_encoded', 'difficulty_encoded', 'score', 'time_spent_minutes', 'liked_topic_encoded']\n",
    "label = 'recommended_next_topic_encoded'\n",
    "\n",
    "X = df[features]\n",
    "y = df[label]"
   ]
  },
  {
   "cell_type": "markdown",
   "id": "e8968894-f714-4069-a29f-a297734345c8",
   "metadata": {},
   "source": [
    "Training dataset"
   ]
  },
  {
   "cell_type": "code",
   "execution_count": 11,
   "id": "8b30195e-9821-4e88-b822-ff2a703e3d26",
   "metadata": {},
   "outputs": [],
   "source": [
    "X_train, X_test, y_train, y_test = train_test_split(X, y, test_size=0.2, random_state=42)"
   ]
  },
  {
   "cell_type": "markdown",
   "id": "b174bcc1-7ce7-453e-8bd5-f658676c0dd3",
   "metadata": {},
   "source": [
    "Use the K-Nearest Neighbors (K-NN) algorithm"
   ]
  },
  {
   "cell_type": "code",
   "execution_count": 12,
   "id": "7571190d-8cf0-4bbb-8041-369be7712a34",
   "metadata": {},
   "outputs": [],
   "source": [
    "knn = KNeighborsClassifier(n_neighbors=3)"
   ]
  },
  {
   "cell_type": "code",
   "execution_count": 13,
   "id": "b466ea13-41d0-48ca-b034-4a880ea252ee",
   "metadata": {},
   "outputs": [
    {
     "name": "stdout",
     "output_type": "stream",
     "text": [
      "\n",
      "Model training is complete!\n"
     ]
    }
   ],
   "source": [
    "knn.fit(X_train, y_train)\n",
    "print(\"\\nModel training is complete!\")"
   ]
  },
  {
   "cell_type": "markdown",
   "id": "da06995c-0362-4377-bd72-920ce8412a36",
   "metadata": {},
   "source": [
    "Testing Dataset"
   ]
  },
  {
   "cell_type": "code",
   "execution_count": 14,
   "id": "bbd4c4c3-23b2-4805-8df3-ea351a0877eb",
   "metadata": {},
   "outputs": [],
   "source": [
    "y_pred = knn.predict(X_test)"
   ]
  },
  {
   "cell_type": "code",
   "execution_count": 15,
   "id": "57df0734-7f45-49d6-999b-e90fe352999a",
   "metadata": {},
   "outputs": [
    {
     "name": "stdout",
     "output_type": "stream",
     "text": [
      "\n",
      "Model Accuracy: 0.00%\n"
     ]
    }
   ],
   "source": [
    "accuracy = accuracy_score(y_test, y_pred)\n",
    "print(f\"\\nModel Accuracy: {accuracy * 100:.2f}%\")"
   ]
  },
  {
   "cell_type": "markdown",
   "id": "705f03a1-27ef-4414-920f-ef3b46ba5d7e",
   "metadata": {},
   "source": [
    "Confusion Matrix"
   ]
  },
  {
   "cell_type": "code",
   "execution_count": 16,
   "id": "d94aeb4c-c2a8-47de-9dfa-66fee57102fc",
   "metadata": {},
   "outputs": [
    {
     "name": "stdout",
     "output_type": "stream",
     "text": [
      "\n",
      "Confusion Matrix:\n",
      "[[0 2]\n",
      " [0 0]]\n"
     ]
    }
   ],
   "source": [
    "conf_matrix = confusion_matrix(y_test, y_pred)\n",
    "print(\"\\nConfusion Matrix:\")\n",
    "print(conf_matrix)"
   ]
  },
  {
   "cell_type": "markdown",
   "id": "e8ca5de5-03b2-4948-87db-33cb9f72aab4",
   "metadata": {},
   "source": [
    "Making It Work & Better"
   ]
  },
  {
   "cell_type": "code",
   "execution_count": 17,
   "id": "ef4a5958-9661-41f2-b6bb-3a9ab7b3f5f2",
   "metadata": {},
   "outputs": [
    {
     "name": "stdout",
     "output_type": "stream",
     "text": [
      "\n",
      "Model saved as 'recommendation_model.joblib'\n"
     ]
    }
   ],
   "source": [
    "joblib.dump(knn, 'recommendation_model.joblib')\n",
    "print(\"\\nModel saved as 'recommendation_model.joblib'\")"
   ]
  },
  {
   "cell_type": "markdown",
   "id": "6c93a123-5f3c-451a-9a76-981564f3cd7c",
   "metadata": {},
   "source": [
    "Loading our trained model"
   ]
  },
  {
   "cell_type": "code",
   "execution_count": 18,
   "id": "30f8bacd-176c-4957-8a5c-bb8cd78c2c1b",
   "metadata": {},
   "outputs": [],
   "source": [
    "loaded_model = joblib.load('recommendation_model.joblib')"
   ]
  },
  {
   "cell_type": "markdown",
   "id": "5ef39c79-a2e0-4a1e-a777-38dc24513c05",
   "metadata": {},
   "source": [
    "Enter New student's data"
   ]
  },
  {
   "cell_type": "code",
   "execution_count": 20,
   "id": "cdd613f1-f228-411a-9d35-a40e0132a5c4",
   "metadata": {},
   "outputs": [],
   "source": [
    "new_student_data = pd.DataFrame({\n",
    "    'topic_encoded': [0],          # Corresponds to 'Algebra'\n",
    "    'difficulty_encoded': [0],   # Corresponds to 'Easy'\n",
    "    'score': [95],\n",
    "    'time_spent_minutes': [13],\n",
    "    'liked_topic_encoded': [1]   # Corresponds to 'True'\n",
    "})"
   ]
  },
  {
   "cell_type": "code",
   "execution_count": 21,
   "id": "076e805a-d49c-4b0b-8e6a-614b176208e9",
   "metadata": {},
   "outputs": [],
   "source": [
    "prediction_encoded = loaded_model.predict(new_student_data)"
   ]
  },
  {
   "cell_type": "markdown",
   "id": "36121ebb-5fd6-43d9-bf63-e6d15bdbf72a",
   "metadata": {},
   "source": [
    "Mapping of original data"
   ]
  },
  {
   "cell_type": "code",
   "execution_count": 23,
   "id": "c6900e0a-2e5d-47d5-8bc8-a6f1d15ee9ce",
   "metadata": {},
   "outputs": [],
   "source": [
    "topic_mapping = dict(zip(df['recommended_next_topic_encoded'], df['recommended_next_topic']))\n",
    "predicted_topic = topic_mapping[prediction_encoded[0]]"
   ]
  },
  {
   "cell_type": "code",
   "execution_count": 24,
   "id": "fba1236c-aa86-4f55-8bc0-74ebdf5b5e20",
   "metadata": {},
   "outputs": [
    {
     "name": "stdout",
     "output_type": "stream",
     "text": [
      "\n",
      "New recommendation for the student is: Geometry\n",
      "\n",
      "Voila! Your recommendation system suggested a next step based on the student's data! \n"
     ]
    }
   ],
   "source": [
    "print(f\"\\nNew recommendation for the student is: {predicted_topic}\")\n",
    "print(\"\\nVoila! Your recommendation system suggested a next step based on the student's data! \")"
   ]
  },
  {
   "cell_type": "code",
   "execution_count": null,
   "id": "0f56af7c-874b-4aed-921c-5770f6f05684",
   "metadata": {},
   "outputs": [],
   "source": []
  }
 ],
 "metadata": {
  "kernelspec": {
   "display_name": "Python 3 (ipykernel)",
   "language": "python",
   "name": "python3"
  },
  "language_info": {
   "codemirror_mode": {
    "name": "ipython",
    "version": 3
   },
   "file_extension": ".py",
   "mimetype": "text/x-python",
   "name": "python",
   "nbconvert_exporter": "python",
   "pygments_lexer": "ipython3",
   "version": "3.12.7"
  }
 },
 "nbformat": 4,
 "nbformat_minor": 5
}
